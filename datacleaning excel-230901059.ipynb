{
 "cells": [
  {
   "cell_type": "code",
   "execution_count": 2,
   "id": "66d3a02c",
   "metadata": {},
   "outputs": [
    {
     "name": "stdout",
     "output_type": "stream",
     "text": [
      "Original data:\n",
      "\n",
      "    S.NO  ROLL NO      NAME  ENGLISH  TAMIL  MATHS  SCIENCE  SOCIAL  TOTAL\n",
      "0      1      106     Rishi     90.0   95.0   92.0     80.0    85.0  442.0\n",
      "1      2      107       Anu     88.0   79.0   90.0     95.0    99.0  451.0\n",
      "2      3      108      Pavi     75.0   90.0   89.0     90.0    92.0  436.0\n",
      "3      4      109     Madhu     90.0   95.0   76.0     92.0    80.0  433.0\n",
      "4      5      110    Harini     80.0   90.0   79.0     89.0    95.0  433.0\n",
      "5      6      111      Gayu     90.0   80.0   85.0     99.0    98.0  452.0\n",
      "6      7      112  Harshini     85.0   90.0   99.0     89.0    79.0  442.0\n",
      "7      8      113      Kavi     89.0   90.0   96.0     91.0    83.0  449.0\n",
      "8      9      114      Sumi     87.0   99.0   80.0     86.0    70.0  422.0\n",
      "9     10      115       Sri     76.0   89.0   99.0     79.0    89.0  432.0\n",
      "10    11      116  Darshini     83.0   94.0   95.0     76.0    98.0  446.0\n",
      "11    12      117   Varshni     69.0   98.0   99.0     87.0    89.0  442.0\n",
      "12    13      118    Gopika     89.0   90.0   99.0     95.0    97.0  470.0\n",
      "13    14      119       NaN      NaN    NaN    NaN      NaN     NaN    NaN\n",
      "14    15      120       Abi     79.0   89.0   90.0     99.0    98.0  455.0\n"
     ]
    }
   ],
   "source": [
    "import pandas as pd\n",
    "pd.set_option('display.max_columns',10)\n",
    "print(\"Original data:\\n\")\n",
    "df=pd.read_excel(\"/Users/student/Downloads/studentperformance59.xlsx\")\n",
    "print(df)"
   ]
  },
  {
   "cell_type": "code",
   "execution_count": 3,
   "id": "d179d1d3",
   "metadata": {},
   "outputs": [
    {
     "name": "stdout",
     "output_type": "stream",
     "text": [
      "0        Rishi\n",
      "1          Anu\n",
      "2         Pavi\n",
      "3        Madhu\n",
      "4       Harini\n",
      "5         Gayu\n",
      "6     Harshini\n",
      "7         Kavi\n",
      "8         Sumi\n",
      "9          Sri\n",
      "10    Darshini\n",
      "11     Varshni\n",
      "12      Gopika\n",
      "13         NaN\n",
      "14         Abi\n",
      "Name: NAME, dtype: object\n"
     ]
    }
   ],
   "source": [
    "f=df['NAME'].str.strip()\n",
    "f.to_excel(\"studentperformance1.xlsx\")\n",
    "print(f)"
   ]
  },
  {
   "cell_type": "code",
   "execution_count": 4,
   "id": "0cb1c404",
   "metadata": {},
   "outputs": [
    {
     "name": "stdout",
     "output_type": "stream",
     "text": [
      "\n",
      "Replace value:\n",
      "    S.NO  ROLL NO      NAME  ENGLISH  TAMIL  MATHS  SCIENCE  SOCIAL  TOTAL\n",
      "0      1      106     Rishi     90.0   95.0   92.0     80.0    85.0  442.0\n",
      "1      2      107       Anu     88.0   79.0   90.0     95.0    99.0  451.0\n",
      "2      3      108      Pavi     75.0   90.0   89.0     90.0    92.0  436.0\n",
      "3      4      109     Madhu     90.0   95.0   76.0     92.0    80.0  433.0\n",
      "4      5      110    Harini     80.0   90.0   79.0     89.0    95.0  433.0\n",
      "5      6      111      Gayu     90.0   80.0   85.0     99.0    98.0  452.0\n",
      "6      7      112  Harshini     85.0   90.0   99.0     89.0    79.0  442.0\n",
      "7      8      113      Kavi     89.0   90.0   96.0     91.0    83.0  449.0\n",
      "8      9      114      Sumi     87.0   99.0   80.0     86.0    70.0  422.0\n",
      "9     10      115       Sri     76.0   89.0   99.0     79.0    89.0  432.0\n",
      "10    11      116  Darshini     83.0   94.0   95.0     76.0    98.0  446.0\n",
      "11    12      117   Varshni     69.0   98.0   99.0     87.0    89.0  442.0\n",
      "12    13      118    Gopika     89.0   90.0   99.0     95.0    97.0  470.0\n",
      "13    14      119    Gopika     89.0   90.0   99.0     95.0    97.0  470.0\n",
      "14    15      120       Abi     79.0   89.0   90.0     99.0    98.0  455.0\n",
      "\n",
      " updated list \n",
      "\n"
     ]
    }
   ],
   "source": [
    "print(\"\\nReplace value:\")\n",
    "k=df.fillna(method='pad')\n",
    "print(k)\n",
    "print(\"\\n updated list \\n\")\n",
    "k.to_excel(\"/Users/student/Downloads/studentperformance59.xlsx\")"
   ]
  },
  {
   "cell_type": "code",
   "execution_count": 5,
   "id": "ae2837e8",
   "metadata": {},
   "outputs": [
    {
     "name": "stdout",
     "output_type": "stream",
     "text": [
      "\n",
      " Drop one particular column and its values:\n",
      "\n",
      "    S.NO  ROLL NO      NAME  ENGLISH  TAMIL  MATHS  SCIENCE  TOTAL\n",
      "0      1      106     Rishi     90.0   95.0   92.0     80.0  442.0\n",
      "1      2      107       Anu     88.0   79.0   90.0     95.0  451.0\n",
      "2      3      108      Pavi     75.0   90.0   89.0     90.0  436.0\n",
      "3      4      109     Madhu     90.0   95.0   76.0     92.0  433.0\n",
      "4      5      110    Harini     80.0   90.0   79.0     89.0  433.0\n",
      "5      6      111      Gayu     90.0   80.0   85.0     99.0  452.0\n",
      "6      7      112  Harshini     85.0   90.0   99.0     89.0  442.0\n",
      "7      8      113      Kavi     89.0   90.0   96.0     91.0  449.0\n",
      "8      9      114      Sumi     87.0   99.0   80.0     86.0  422.0\n",
      "9     10      115       Sri     76.0   89.0   99.0     79.0  432.0\n",
      "10    11      116  Darshini     83.0   94.0   95.0     76.0  446.0\n",
      "11    12      117   Varshni     69.0   98.0   99.0     87.0  442.0\n",
      "12    13      118    Gopika     89.0   90.0   99.0     95.0  470.0\n",
      "13    14      119    Gopika     89.0   90.0   99.0     95.0  470.0\n",
      "14    15      120       Abi     79.0   89.0   90.0     99.0  455.0\n",
      "\n",
      " updated list \n",
      "\n"
     ]
    }
   ],
   "source": [
    "print(\"\\n Drop one particular column and its values:\\n\")\n",
    "k.drop(['SOCIAL'],axis=1,inplace=True)\n",
    "print(k)\n",
    "print(\"\\n updated list \\n\")\n",
    "k.to_excel(\"/Users/student/Downloads/studentperformance59.xlsx\")"
   ]
  },
  {
   "cell_type": "code",
   "execution_count": 6,
   "id": "c3327f49",
   "metadata": {},
   "outputs": [
    {
     "name": "stdout",
     "output_type": "stream",
     "text": [
      "\n",
      "Drop NaN rows:\n",
      "\n",
      "    Unnamed: 0  S.NO  ROLL NO      NAME  ENGLISH  TAMIL  MATHS  SCIENCE  TOTAL\n",
      "0            0     1      106     Rishi       90     95     92       80    442\n",
      "1            1     2      107       Anu       88     79     90       95    451\n",
      "2            2     3      108      Pavi       75     90     89       90    436\n",
      "3            3     4      109     Madhu       90     95     76       92    433\n",
      "4            4     5      110    Harini       80     90     79       89    433\n",
      "5            5     6      111      Gayu       90     80     85       99    452\n",
      "6            6     7      112  Harshini       85     90     99       89    442\n",
      "7            7     8      113      Kavi       89     90     96       91    449\n",
      "8            8     9      114      Sumi       87     99     80       86    422\n",
      "9            9    10      115       Sri       76     89     99       79    432\n",
      "10          10    11      116  Darshini       83     94     95       76    446\n",
      "11          11    12      117   Varshni       69     98     99       87    442\n",
      "12          12    13      118    Gopika       89     90     99       95    470\n",
      "13          13    14      119    Gopika       89     90     99       95    470\n",
      "14          14    15      120       Abi       79     89     90       99    455\n",
      "    Unnamed: 0  S.NO  ROLL NO      NAME  ENGLISH  TAMIL  MATHS  SCIENCE  TOTAL\n",
      "0            0     1      106     Rishi       90     95     92       80    442\n",
      "1            1     2      107       Anu       88     79     90       95    451\n",
      "2            2     3      108      Pavi       75     90     89       90    436\n",
      "3            3     4      109     Madhu       90     95     76       92    433\n",
      "4            4     5      110    Harini       80     90     79       89    433\n",
      "5            5     6      111      Gayu       90     80     85       99    452\n",
      "6            6     7      112  Harshini       85     90     99       89    442\n",
      "7            7     8      113      Kavi       89     90     96       91    449\n",
      "8            8     9      114      Sumi       87     99     80       86    422\n",
      "9            9    10      115       Sri       76     89     99       79    432\n",
      "10          10    11      116  Darshini       83     94     95       76    446\n",
      "11          11    12      117   Varshni       69     98     99       87    442\n",
      "12          12    13      118    Gopika       89     90     99       95    470\n",
      "13          13    14      119    Gopika       89     90     99       95    470\n",
      "14          14    15      120       Abi       79     89     90       99    455\n",
      "\n",
      " updated list:\n",
      "\n"
     ]
    }
   ],
   "source": [
    "print(\"\\nDrop NaN rows:\\n\")\n",
    "df=pd.read_excel(\"/Users/student/Downloads/studentperformance59.xlsx\")\n",
    "print(df)\n",
    "x=df.dropna()\n",
    "print(x)\n",
    "print(\"\\n updated list:\\n\")\n",
    "x.to_excel(\"/Users/student/Downloads/studentperformance59.xlsx\")"
   ]
  },
  {
   "cell_type": "code",
   "execution_count": 7,
   "id": "0896feb3",
   "metadata": {},
   "outputs": [
    {
     "name": "stdout",
     "output_type": "stream",
     "text": [
      "\n",
      " Replace Values \n",
      "\n",
      "\n",
      " Original Data:\n",
      "\n",
      "    Unnamed: 0.1  Unnamed: 0  S.NO  ROLL NO      NAME  ENGLISH  TAMIL  MATHS  \\\n",
      "0              0           0     1      106     Rishi       90     95     92   \n",
      "1              1           1     2      107       Anu       88     79     90   \n",
      "2              2           2     3      108      Pavi       75     90     89   \n",
      "3              3           3     4      109     Madhu       90     95     76   \n",
      "4              4           4     5      110    Harini       80     90     79   \n",
      "5              5           5     6      111      Gayu       90     80     85   \n",
      "6              6           6     7      112  Harshini       85     90     99   \n",
      "7              7           7     8      113      Kavi       89     90     96   \n",
      "8              8           8     9      114      Sumi       87     99     80   \n",
      "9              9           9    10      115       Sri       76     89     99   \n",
      "10            10          10    11      116  Darshini       83     94     95   \n",
      "11            11          11    12      117   Varshni       69     98     99   \n",
      "12            12          12    13      118    Gopika       89     90     99   \n",
      "13            13          13    14      119    Gopika       89     90     99   \n",
      "14            14          14    15      120       Abi       79     89     90   \n",
      "\n",
      "    SCIENCE  TOTAL  \n",
      "0        80    442  \n",
      "1        95    451  \n",
      "2        90    436  \n",
      "3        92    433  \n",
      "4        89    433  \n",
      "5        99    452  \n",
      "6        89    442  \n",
      "7        91    449  \n",
      "8        86    422  \n",
      "9        79    432  \n",
      "10       76    446  \n",
      "11       87    442  \n",
      "12       95    470  \n",
      "13       95    470  \n",
      "14       99    455  \n",
      "\n",
      " Replaced dataset:\n",
      "\n",
      "    Unnamed: 0.1  Unnamed: 0  S.NO  ROLL NO      NAME  ENGLISH  TAMIL  MATHS  \\\n",
      "0              0           0     1      106     Rishi       90     95     92   \n",
      "1              1           1     2      107       Anu       88     79     90   \n",
      "2              2           2     3      108      Pavi       75     90     89   \n",
      "3              3           3     4      109     Madhu       90     95     76   \n",
      "4              4           4     5      110    Harini       80     90     79   \n",
      "5              5           5     6      111      Gayu       90     80     85   \n",
      "6              6           6     7      112  Harshini       85     90     99   \n",
      "7              7           7     8      113      Kavi       89     90     96   \n",
      "8              8           8     9      114      Sumi       87     99     80   \n",
      "9              9           9    10      115       Sri       76     89     99   \n",
      "10            10          10    11      116  Darshini       83     94     95   \n",
      "11            11          11    12      117   Varshni       69     98     99   \n",
      "12            12          12    13      118    Gopika       89     90     99   \n",
      "13            13          13    14      119    Gopika       89     90     99   \n",
      "14            14          14    15      120       Abi       79     89     90   \n",
      "\n",
      "    SCIENCE  TOTAL  \n",
      "0        80    442  \n",
      "1        95    451  \n",
      "2        90    436  \n",
      "3        92    433  \n",
      "4        89    433  \n",
      "5        99    452  \n",
      "6        89    442  \n",
      "7        91    449  \n",
      "8        86    422  \n",
      "9        79    432  \n",
      "10       76    446  \n",
      "11       87    442  \n",
      "12       95    470  \n",
      "13       95    470  \n",
      "14       99    455  \n",
      "\n",
      " updated dataset:\n",
      "\n"
     ]
    }
   ],
   "source": [
    "#replacing values\n",
    "print(\"\\n Replace Values \\n\")\n",
    "n=pd.read_excel(\"/Users/student/Downloads/studentperformance59.xlsx\")\n",
    "print(\"\\n Original Data:\\n\")\n",
    "print(n)\n",
    "y=n.replace({89})\n",
    "print(\"\\n Replaced dataset:\\n\")\n",
    "print(y)\n",
    "print(\"\\n updated dataset:\\n\")\n",
    "y.to_excel(\"/Users/student/Downloads/studentperformance59.xlsx\")"
   ]
  },
  {
   "cell_type": "code",
   "execution_count": 8,
   "id": "4e3010da",
   "metadata": {},
   "outputs": [
    {
     "name": "stdout",
     "output_type": "stream",
     "text": [
      "    Unnamed: 0.2  Unnamed: 0.1  Unnamed: 0  S.NO  ROLL NO  ... ENGLISH  TAMIL  \\\n",
      "0              0             0           0     1      106  ...      90     95   \n",
      "1              1             1           1     2      107  ...      88     79   \n",
      "2              2             2           2     3      108  ...      75     90   \n",
      "3              3             3           3     4      109  ...      90     95   \n",
      "4              4             4           4     5      110  ...      80     90   \n",
      "5              5             5           5     6      111  ...      90     80   \n",
      "6              6             6           6     7      112  ...      85     90   \n",
      "7              7             7           7     8      113  ...      89     90   \n",
      "8              8             8           8     9      114  ...      87     99   \n",
      "9              9             9           9    10      115  ...      76     89   \n",
      "10            10            10          10    11      116  ...      83     94   \n",
      "11            11            11          11    12      117  ...      69     98   \n",
      "12            12            12          12    13      118  ...      89     90   \n",
      "13            13            13          13    14      119  ...      89     90   \n",
      "14            14            14          14    15      120  ...      79     89   \n",
      "\n",
      "    MATHS  SCIENCE  TOTAL  \n",
      "0      92       80    442  \n",
      "1      90       95    451  \n",
      "2      89       90    436  \n",
      "3      76       92    433  \n",
      "4      79       89    433  \n",
      "5      85       99    452  \n",
      "6      99       89    442  \n",
      "7      96       91    449  \n",
      "8      80       86    422  \n",
      "9      99       79    432  \n",
      "10     95       76    446  \n",
      "11     99       87    442  \n",
      "12     99       95    470  \n",
      "13     99       95    470  \n",
      "14     90       99    455  \n",
      "\n",
      "[15 rows x 11 columns]\n",
      "\n",
      "Extract using isin()function:\n",
      "\n",
      "   Unnamed: 0.2  Unnamed: 0.1  Unnamed: 0  S.NO  ROLL NO  ... ENGLISH  TAMIL  \\\n",
      "9             9             9           9    10      115  ...      76     89   \n",
      "\n",
      "   MATHS  SCIENCE  TOTAL  \n",
      "9     99       79    432  \n",
      "\n",
      "[1 rows x 11 columns]\n"
     ]
    }
   ],
   "source": [
    "df=pd.read_excel(\"/Users/student/Downloads/studentperformance59.xlsx\")\n",
    "print(df)\n",
    "print(\"\\nExtract using isin()function:\\n\")\n",
    "new=df[\"ENGLISH\"].isin([76])\n",
    "print(df[new])"
   ]
  },
  {
   "cell_type": "code",
   "execution_count": null,
   "id": "478cb4c5",
   "metadata": {},
   "outputs": [],
   "source": []
  }
 ],
 "metadata": {
  "kernelspec": {
   "display_name": "Python 3 (ipykernel)",
   "language": "python",
   "name": "python3"
  },
  "language_info": {
   "codemirror_mode": {
    "name": "ipython",
    "version": 3
   },
   "file_extension": ".py",
   "mimetype": "text/x-python",
   "name": "python",
   "nbconvert_exporter": "python",
   "pygments_lexer": "ipython3",
   "version": "3.11.5"
  }
 },
 "nbformat": 4,
 "nbformat_minor": 5
}

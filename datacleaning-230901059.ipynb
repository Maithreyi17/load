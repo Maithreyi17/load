{
 "cells": [
  {
   "cell_type": "code",
   "execution_count": 2,
   "id": "5298ce3f",
   "metadata": {},
   "outputs": [
    {
     "name": "stdout",
     "output_type": "stream",
     "text": [
      "Original DataFrame with NaN\n",
      "         one       two     three\n",
      "a -0.428944  0.736274  0.602744\n",
      "b  0.030003 -0.290307 -1.631629\n",
      "c       NaN       NaN       NaN\n",
      "d -1.892819 -1.263951  0.040385\n",
      "e       NaN       NaN       NaN\n",
      "f -0.918565 -0.261327  0.546235\n",
      "\n",
      "\n",
      "Dropped DataFrame\n",
      "         one       two     three\n",
      "a -0.428944  0.736274  0.602744\n",
      "b  0.030003 -0.290307 -1.631629\n",
      "d -1.892819 -1.263951  0.040385\n",
      "f -0.918565 -0.261327  0.546235\n",
      "\n",
      "\n"
     ]
    }
   ],
   "source": [
    "import pandas as pd\n",
    "import numpy as np\n",
    "df=pd.DataFrame(np.random.randn(4,3),index=['a','b','d','f'],columns=['one','two','three'])\n",
    "df=df.reindex(['a','b','c','d','e','f'])\n",
    "print(\"Original DataFrame with NaN\\n\",df)\n",
    "print(\"\\n\")\n",
    "print(\"Dropped DataFrame\\n\",df.dropna())\n",
    "print(\"\\n\")"
   ]
  },
  {
   "cell_type": "code",
   "execution_count": 3,
   "id": "5ac5c210",
   "metadata": {},
   "outputs": [
    {
     "name": "stdout",
     "output_type": "stream",
     "text": [
      "Original DataFrame with NaN\n",
      "         one      two     three\n",
      "a -1.230981  0.49722  2.237056\n",
      "b -1.964916  0.89554  1.619396\n",
      "c       NaN      NaN       NaN\n",
      "\n",
      "\n",
      "NaN replaced with '0':\n",
      "\n",
      "        one      two     three\n",
      "a -1.230981  0.49722  2.237056\n",
      "b -1.964916  0.89554  1.619396\n",
      "c  0.000000  0.00000  0.000000\n"
     ]
    }
   ],
   "source": [
    "df=pd.DataFrame(np.random.randn(4,3),index=['a','b','d','f'],columns=['one','two','three'])\n",
    "df=df.reindex(['a','b','c'])\n",
    "print(\"Original DataFrame with NaN\\n\",df)\n",
    "print(\"\\n\")\n",
    "print(\"NaN replaced with '0':\\n\")\n",
    "print(df.fillna(0))"
   ]
  },
  {
   "cell_type": "code",
   "execution_count": 4,
   "id": "1b9e2fe4",
   "metadata": {},
   "outputs": [
    {
     "name": "stdout",
     "output_type": "stream",
     "text": [
      "Original DataFrame with NaN\n",
      "         one       two     three\n",
      "a  0.291759 -0.881601  2.786233\n",
      "b -0.021547 -1.256181 -1.098127\n",
      "c       NaN       NaN       NaN\n",
      "d -0.560476 -1.151358  0.164955\n",
      "e       NaN       NaN       NaN\n",
      "f -0.369814  2.432735  0.039871\n",
      "\n",
      " with NaN_with true fill:\n",
      "\n",
      "a    False\n",
      "b    False\n",
      "c     True\n",
      "d    False\n",
      "e     True\n",
      "f    False\n",
      "Name: one, dtype: bool\n"
     ]
    }
   ],
   "source": [
    "df=pd.DataFrame(np.random.randn(4,3),index=['a','b','d','f'],columns=['one','two','three'])\n",
    "df=df.reindex(['a','b','c','d','e','f'])\n",
    "print(\"Original DataFrame with NaN\\n\",df)\n",
    "print(\"\\n with NaN_with true fill:\\n\")\n",
    "print(df['one'].isnull())"
   ]
  },
  {
   "cell_type": "code",
   "execution_count": 5,
   "id": "3e64df26",
   "metadata": {},
   "outputs": [
    {
     "name": "stdout",
     "output_type": "stream",
     "text": [
      "Original DataFrame with NaN\n",
      "         one       two     three\n",
      "a -0.852060 -2.204398 -0.580990\n",
      "b  0.086189 -1.419426  0.985704\n",
      "c       NaN       NaN       NaN\n",
      "d -0.108930  1.396588  1.062416\n",
      "e       NaN       NaN       NaN\n",
      "f  0.691600 -2.891778  1.683596\n",
      "\n",
      "NaN_filled with BackgroundValues:\n",
      "\n",
      "        one       two     three\n",
      "a -0.852060 -2.204398 -0.580990\n",
      "b  0.086189 -1.419426  0.985704\n",
      "c -0.108930  1.396588  1.062416\n",
      "d -0.108930  1.396588  1.062416\n",
      "e  0.691600 -2.891778  1.683596\n",
      "f  0.691600 -2.891778  1.683596\n"
     ]
    }
   ],
   "source": [
    "df=pd.DataFrame(np.random.randn(4,3),index=['a','b','d','f'],columns=['one','two','three'])\n",
    "df=df.reindex(['a','b','c','d','e','f'])\n",
    "print(\"Original DataFrame with NaN\\n\",df)\n",
    "print(\"\\nNaN_filled with BackgroundValues:\\n\")\n",
    "print(df.fillna(method='bfill'))"
   ]
  },
  {
   "cell_type": "code",
   "execution_count": 6,
   "id": "03035fdd",
   "metadata": {},
   "outputs": [
    {
     "name": "stdout",
     "output_type": "stream",
     "text": [
      "Original DataFrame with NaN\n",
      "         one       two     three\n",
      "a  0.272332 -0.388168  0.557475\n",
      "b  1.687164 -0.905568  0.772365\n",
      "c       NaN       NaN       NaN\n",
      "d  1.062304 -1.093500  0.758524\n",
      "e       NaN       NaN       NaN\n",
      "f  1.707877 -0.827725  1.387277\n",
      "\n",
      "NaN_filled with BackgroundValues:\n",
      "\n",
      "        one       two     three\n",
      "a  0.272332 -0.388168  0.557475\n",
      "b  1.687164 -0.905568  0.772365\n",
      "c  1.687164 -0.905568  0.772365\n",
      "d  1.062304 -1.093500  0.758524\n",
      "e  1.062304 -1.093500  0.758524\n",
      "f  1.707877 -0.827725  1.387277\n"
     ]
    }
   ],
   "source": [
    "df=pd.DataFrame(np.random.randn(4,3),index=['a','b','d','f'],columns=['one','two','three'])\n",
    "df=df.reindex(['a','b','c','d','e','f'])\n",
    "print(\"Original DataFrame with NaN\\n\",df)\n",
    "print(\"\\nNaN_filled with BackgroundValues:\\n\")\n",
    "print(df.fillna(method='ffill'))"
   ]
  },
  {
   "cell_type": "code",
   "execution_count": 7,
   "id": "7daaf898",
   "metadata": {},
   "outputs": [
    {
     "name": "stdout",
     "output_type": "stream",
     "text": [
      "Original DataFrame:\n",
      "    one  two\n",
      "0   10   60\n",
      "1   20   70\n",
      "2   80   80\n",
      "3   40    0\n",
      "4   50   10\n",
      "\n",
      "DataFrame with replaced values:\n",
      "\n",
      "   one  two\n",
      "0    5   60\n",
      "1   20   70\n",
      "2   30   30\n",
      "3   40    0\n",
      "4   50    5\n"
     ]
    }
   ],
   "source": [
    "df=pd.DataFrame({'one':[10,20,80,40,50],'two':[60,70,80,0,10]})\n",
    "print(\"Original DataFrame:\\n\",df)\n",
    "print(\"\\nDataFrame with replaced values:\\n\")\n",
    "print(df.replace({10:5,80:30}))"
   ]
  },
  {
   "cell_type": "code",
   "execution_count": null,
   "id": "ee9c3905",
   "metadata": {},
   "outputs": [],
   "source": []
  }
 ],
 "metadata": {
  "kernelspec": {
   "display_name": "Python 3 (ipykernel)",
   "language": "python",
   "name": "python3"
  },
  "language_info": {
   "codemirror_mode": {
    "name": "ipython",
    "version": 3
   },
   "file_extension": ".py",
   "mimetype": "text/x-python",
   "name": "python",
   "nbconvert_exporter": "python",
   "pygments_lexer": "ipython3",
   "version": "3.11.5"
  }
 },
 "nbformat": 4,
 "nbformat_minor": 5
}

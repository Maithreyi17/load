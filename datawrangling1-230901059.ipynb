{
 "cells": [
  {
   "cell_type": "code",
   "execution_count": 4,
   "id": "441d5b8f",
   "metadata": {},
   "outputs": [],
   "source": [
    "import pandas as pd\n",
    "d1={\n",
    "    \"name\":[\"sri\",\"sai\",\"abi\"],\n",
    "    \"age\":[20,21,22]\n",
    "}\n",
    "d2={\n",
    "    \"qualified\":[True,True,False]\n",
    "}"
   ]
  },
  {
   "cell_type": "code",
   "execution_count": 5,
   "id": "f0c04551",
   "metadata": {},
   "outputs": [
    {
     "name": "stdout",
     "output_type": "stream",
     "text": [
      "  name  age\n",
      "0  sri   20\n",
      "1  sai   21\n",
      "2  abi   22\n",
      "   qualified\n",
      "0       True\n",
      "1       True\n",
      "2      False\n",
      "  name  age  qualified\n",
      "0  sri   20       True\n",
      "1  sai   21       True\n",
      "2  abi   22      False\n"
     ]
    }
   ],
   "source": [
    "#joining dataframe\n",
    "df1=pd.DataFrame(d1)\n",
    "print(df1)\n",
    "df2=pd.DataFrame(d2)\n",
    "print(df2)\n",
    "newdf=df1.join(df2)\n",
    "print(newdf)"
   ]
  },
  {
   "cell_type": "code",
   "execution_count": 6,
   "id": "0c0e7186",
   "metadata": {},
   "outputs": [
    {
     "name": "stdout",
     "output_type": "stream",
     "text": [
      "    name  age\n",
      "0    sai   20\n",
      "1  rishi   21\n",
      "2  thara   22\n",
      "     name  age\n",
      "0    yuvi   20\n",
      "1   pooja   21\n",
      "2  sanjay   22\n",
      "   name_x  age name_y\n",
      "0    yuvi   20    sai\n",
      "1   pooja   21  rishi\n",
      "2  sanjay   22  thara\n",
      "  name_x  age  name_y\n",
      "0    sai   20    yuvi\n",
      "1  rishi   21   pooja\n",
      "2  thara   22  sanjay\n"
     ]
    }
   ],
   "source": [
    "#merge\n",
    "d1={\n",
    "    \"name\":[\"sai\",\"rishi\",\"thara\"],\n",
    "    \"age\":[20,21,22]\n",
    "}\n",
    "d2={\n",
    "    \"name\":[\"yuvi\",\"pooja\",\"sanjay\"],\n",
    "    \"age\":[20,21,22]\n",
    "}\n",
    "df1=pd.DataFrame(d1)\n",
    "print(df1)\n",
    "df2=pd.DataFrame(d2)\n",
    "print(df2)\n",
    "newdf1=(df2.merge(df1,on=\"age\"))\n",
    "print(newdf1)\n",
    "#aliter\n",
    "newdf2=(df1.merge(df2,on=\"age\",how=\"left\"))\n",
    "print(newdf2)"
   ]
  },
  {
   "cell_type": "code",
   "execution_count": 9,
   "id": "adb2ffc9",
   "metadata": {},
   "outputs": [
    {
     "name": "stdout",
     "output_type": "stream",
     "text": [
      "  team  points  assists  rebounds\n",
      "0    A      90       12        56\n",
      "1    B      56       34        43\n",
      "2    C      78       23        55\n",
      "3    D      88       44        12\n",
      "   team  variable  value\n",
      "0     A    points     90\n",
      "1     B    points     56\n",
      "2     C    points     78\n",
      "3     D    points     88\n",
      "4     A   assists     12\n",
      "5     B   assists     34\n",
      "6     C   assists     23\n",
      "7     D   assists     44\n",
      "8     A  rebounds     56\n",
      "9     B  rebounds     43\n",
      "10    C  rebounds     55\n",
      "11    D  rebounds     12\n"
     ]
    }
   ],
   "source": [
    "df=pd.DataFrame({'team':['A','B','C','D'],'points':[90,56,78,88],'assists':[12,34,23,44],'rebounds':[56,43,55,12]})\n",
    "print(df)\n",
    "df=pd.melt(df,id_vars='team',value_vars=['points','assists','rebounds'])\n",
    "print(df)"
   ]
  },
  {
   "cell_type": "code",
   "execution_count": null,
   "id": "22885caa",
   "metadata": {},
   "outputs": [],
   "source": []
  }
 ],
 "metadata": {
  "kernelspec": {
   "display_name": "Python 3 (ipykernel)",
   "language": "python",
   "name": "python3"
  },
  "language_info": {
   "codemirror_mode": {
    "name": "ipython",
    "version": 3
   },
   "file_extension": ".py",
   "mimetype": "text/x-python",
   "name": "python",
   "nbconvert_exporter": "python",
   "pygments_lexer": "ipython3",
   "version": "3.11.5"
  }
 },
 "nbformat": 4,
 "nbformat_minor": 5
}

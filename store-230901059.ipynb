{
 "cells": [
  {
   "cell_type": "code",
   "execution_count": 3,
   "id": "812a0230",
   "metadata": {},
   "outputs": [
    {
     "name": "stdout",
     "output_type": "stream",
     "text": [
      "       a  b  c\n",
      "one    1  2  3\n",
      "two    4  5  6\n",
      "three  7  8  9\n"
     ]
    }
   ],
   "source": [
    "import pandas as pd\n",
    "df=pd.DataFrame([[1,2,3],[4,5,6],[7,8,9]],index=['one','two','three'],columns=['a','b','c'])\n",
    "print(df)"
   ]
  },
  {
   "cell_type": "code",
   "execution_count": 4,
   "id": "580f2225",
   "metadata": {},
   "outputs": [],
   "source": [
    "df.to_excel(\"/Users/student/Downloads/pythonstore1.xlsx\")\n",
    "df.to_excel(\"/Users/student/Downloads/pythonstore2.xlsx\")\n"
   ]
  },
  {
   "cell_type": "code",
   "execution_count": 5,
   "id": "c4e911cb",
   "metadata": {},
   "outputs": [],
   "source": [
    "df=pd.DataFrame([[10,20,30],[40,50,60],[70,80,90]],index=['Four','Five','Six'],columns=['X','Y','Z'])\n",
    "df.to_excel(\"/Users/student/Downloads/pythonstore1.xlsx\",sheet_name=\"sheet1\")"
   ]
  },
  {
   "cell_type": "code",
   "execution_count": 6,
   "id": "c14b5ed7",
   "metadata": {},
   "outputs": [],
   "source": [
    "df=pd.DataFrame([[6,7],[1,2]],index=['a','b'],columns=['X','Y'])\n",
    "df.to_excel(\"/Users/student/Downloads/pythonstore1.xlsx\",sheet_name=\"sheet1\")"
   ]
  },
  {
   "cell_type": "code",
   "execution_count": 7,
   "id": "f769e4d3",
   "metadata": {},
   "outputs": [],
   "source": [
    "#append function\n",
    "x=pd.read_excel(\"/Users/student/Downloads/pythonstore1.xlsx\")\n",
    "y=pd.read_excel(\"/Users/student/Downloads/pythonstore2.xlsx\")\n",
    "z=pd.concat([x,y])\n",
    "z.to_excel(\"/Users/student/Downloads/pythonstore3.xlsx\")"
   ]
  },
  {
   "cell_type": "code",
   "execution_count": 12,
   "id": "bf632b0a",
   "metadata": {},
   "outputs": [
    {
     "name": "stdout",
     "output_type": "stream",
     "text": [
      "  Unnamed: 0    X    Y    a    b    c\n",
      "1          b  1.0  2.0  NaN  NaN  NaN\n",
      "0          a  6.0  7.0  NaN  NaN  NaN\n",
      "0        one  NaN  NaN  1.0  2.0  3.0\n",
      "1        two  NaN  NaN  4.0  5.0  6.0\n",
      "2      three  NaN  NaN  7.0  8.0  9.0\n"
     ]
    }
   ],
   "source": [
    "#sorting\n",
    "df=z.sort_values([\"X\"])\n",
    "print(df)\n",
    "df.to_excel(\"/Users/student/Downloads/pythonstore1.xlsx\")"
   ]
  },
  {
   "cell_type": "code",
   "execution_count": 13,
   "id": "a951ef58",
   "metadata": {},
   "outputs": [
    {
     "name": "stdout",
     "output_type": "stream",
     "text": [
      "  Unnamed: 0    X    Y    a    b    c\n",
      "1          b  1.0  2.0  NaN  NaN  NaN\n",
      "0          a  6.0  7.0  NaN  NaN  NaN\n",
      "0        one  NaN  NaN  1.0  2.0  3.0\n",
      "1        two  NaN  NaN  4.0  5.0  6.0\n",
      "2      three  NaN  NaN  7.0  8.0  9.0\n"
     ]
    }
   ],
   "source": [
    "df=z.sort_values([\"Y\"])\n",
    "print(df)\n",
    "df.to_excel(\"/Users/student/Downloads/pythonstore1.xlsx\")"
   ]
  },
  {
   "cell_type": "code",
   "execution_count": 14,
   "id": "d57a6946",
   "metadata": {},
   "outputs": [
    {
     "name": "stdout",
     "output_type": "stream",
     "text": [
      "  Unnamed: 0  a  b  c\n",
      "0        one  1  2  3\n",
      "1        two  4  5  6\n",
      "2      three  7  8  9\n",
      "['Unnamed: 0', 'a', 'b', 'c']\n",
      "3\n"
     ]
    }
   ],
   "source": [
    "df=pd.read_excel(\"/Users/student/Downloads/pythonstore2.xlsx\")\n",
    "print(df)\n",
    "print(list(df))#to print column names as list\n",
    "print(format(len(df)))#to print no of rows"
   ]
  },
  {
   "cell_type": "code",
   "execution_count": null,
   "id": "86cd91e9",
   "metadata": {},
   "outputs": [],
   "source": []
  }
 ],
 "metadata": {
  "kernelspec": {
   "display_name": "Python 3 (ipykernel)",
   "language": "python",
   "name": "python3"
  },
  "language_info": {
   "codemirror_mode": {
    "name": "ipython",
    "version": 3
   },
   "file_extension": ".py",
   "mimetype": "text/x-python",
   "name": "python",
   "nbconvert_exporter": "python",
   "pygments_lexer": "ipython3",
   "version": "3.11.5"
  }
 },
 "nbformat": 4,
 "nbformat_minor": 5
}

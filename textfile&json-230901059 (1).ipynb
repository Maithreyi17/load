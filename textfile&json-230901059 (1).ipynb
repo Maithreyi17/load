{
 "cells": [
  {
   "cell_type": "code",
   "execution_count": 1,
   "id": "370230de",
   "metadata": {},
   "outputs": [],
   "source": [
    "f=open(\"/Users/student/Documents/python.txt\",\"w\")\n"
   ]
  },
  {
   "cell_type": "code",
   "execution_count": 2,
   "id": "5bb7352c",
   "metadata": {},
   "outputs": [],
   "source": [
    "f.write(\"wakeup early \\n\")\n",
    "f.write(\"Read daily\\n\")\n",
    "f.write(\"Be punctual\\n\")\n",
    "f.close()\n"
   ]
  },
  {
   "cell_type": "code",
   "execution_count": 3,
   "id": "5f720ed5",
   "metadata": {},
   "outputs": [
    {
     "name": "stdout",
     "output_type": "stream",
     "text": [
      "wakeup early \n",
      "\n",
      "Read daily\n",
      "\n",
      "Be punctual\n",
      "\n"
     ]
    }
   ],
   "source": [
    "a=open(\"/Users/student/Documents/python.txt\",\"r\")\n",
    "print(a.readline())\n",
    "print(a.readline())\n",
    "print(a.readline())\n",
    "a.close()"
   ]
  },
  {
   "cell_type": "code",
   "execution_count": 4,
   "id": "244b61cb",
   "metadata": {},
   "outputs": [],
   "source": [
    "b=open(\"/Users/student/Documents/python.txt\",\"a\")\n",
    "b.write(\"Bavani\\n\")\n",
    "b.write(\"Rithika\\n\")\n",
    "b.close()"
   ]
  },
  {
   "cell_type": "code",
   "execution_count": 5,
   "id": "9d918a2a",
   "metadata": {},
   "outputs": [
    {
     "name": "stdout",
     "output_type": "stream",
     "text": [
      "wakeup early \n",
      "Read daily\n",
      "Be punctual\n",
      "Bavani\n",
      "Rithika\n",
      "\n"
     ]
    }
   ],
   "source": [
    "c=open(\"/Users/student/Documents/python.txt\",\"r\")\n",
    "print(c.read())\n",
    "c.close()"
   ]
  },
  {
   "cell_type": "code",
   "execution_count": 6,
   "id": "f54ff422",
   "metadata": {},
   "outputs": [
    {
     "name": "stdout",
     "output_type": "stream",
     "text": [
      "['wakeup early \\n', 'Read daily\\n', 'Be punctual\\n', 'Bavani\\n', 'Rithika\\n']\n"
     ]
    }
   ],
   "source": [
    "with open(\"/Users/student/Documents/python.txt\",\"r\")as file:\n",
    "    lines=file.readlines()\n",
    "    print(lines)"
   ]
  },
  {
   "cell_type": "code",
   "execution_count": 7,
   "id": "15fd2252",
   "metadata": {},
   "outputs": [
    {
     "name": "stdout",
     "output_type": "stream",
     "text": [
      "Mumbai\n"
     ]
    }
   ],
   "source": [
    "import json\n",
    "x='{\"Name\":\"Sundar\",\"age\":25,\"city\":\"Mumbai\"}'\n",
    "y=json.loads(x)\n",
    "print(y[\"city\"])"
   ]
  },
  {
   "cell_type": "code",
   "execution_count": 8,
   "id": "a117accf",
   "metadata": {},
   "outputs": [
    {
     "name": "stdout",
     "output_type": "stream",
     "text": [
      "\"{\\\"Name\\\":\\\"Sundar\\\",\\\"age\\\":25,\\\"city\\\":\\\"Mumbai\\\"}\"\n"
     ]
    }
   ],
   "source": [
    "x\n",
    "{\"name\":\"sundar\",\n",
    "\"age\":25,\n",
    "\"city\":\"Mumbai\"\n",
    "}\n",
    "y=json.dumps(x)\n",
    "print(y)"
   ]
  },
  {
   "cell_type": "code",
   "execution_count": null,
   "id": "57c48a15",
   "metadata": {},
   "outputs": [],
   "source": []
  }
 ],
 "metadata": {
  "kernelspec": {
   "display_name": "Python 3 (ipykernel)",
   "language": "python",
   "name": "python3"
  },
  "language_info": {
   "codemirror_mode": {
    "name": "ipython",
    "version": 3
   },
   "file_extension": ".py",
   "mimetype": "text/x-python",
   "name": "python",
   "nbconvert_exporter": "python",
   "pygments_lexer": "ipython3",
   "version": "3.11.5"
  }
 },
 "nbformat": 4,
 "nbformat_minor": 5
}

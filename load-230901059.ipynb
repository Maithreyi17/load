{
 "cells": [
  {
   "cell_type": "code",
   "execution_count": 6,
   "id": "2c36be33",
   "metadata": {},
   "outputs": [
    {
     "name": "stdout",
     "output_type": "stream",
     "text": [
      "   S.NO First Name  Gender Login Time  Salary  Bonus(%)   Department  \\\n",
      "0     1    Abinaya  Female       9:00  20,000      1000           HR   \n",
      "1     2      Madhu  Female       9:30  13,000      1200  coordinator   \n",
      "2     3    sarathi    male       8:30   25000      2000           HR   \n",
      "3     4   Raghavee  female       9:00   30000      1500           HR   \n",
      "4     5    Senthil    Male       9:45   15000      1500  coordinator   \n",
      "5     6     Ramesh    Male      10:00   25000      2000  coordinator   \n",
      "6     7    Kavitha  female       9:30   20000      1500  coordinator   \n",
      "7     8    Mithali  female      10:10   18000      1000           HR   \n",
      "8     9    Harshaw    Male      10:00   15000      2000           HR   \n",
      "9    10    Mathosh    Male      10:00   15000      1500           HR   \n",
      "\n",
      "  Designation  \n",
      "0      member  \n",
      "1      member  \n",
      "2          TL  \n",
      "3     Manager  \n",
      "4          TL  \n",
      "5     Manager  \n",
      "6      member  \n",
      "7      member  \n",
      "8      member  \n",
      "9      member  \n"
     ]
    }
   ],
   "source": [
    "import pandas as pd\n",
    "d=pd.read_csv(\"/Users/student/Downloads/230901059 pandas.csv\")\n",
    "print(d)"
   ]
  },
  {
   "cell_type": "code",
   "execution_count": 7,
   "id": "8359f5b1",
   "metadata": {},
   "outputs": [
    {
     "name": "stdout",
     "output_type": "stream",
     "text": [
      "columns Index(['S.NO', 'First Name', 'Gender', 'Login Time', 'Salary', 'Bonus(%)',\n",
      "       'Department', 'Designation'],\n",
      "      dtype='object')\n",
      "(10, 8)\n"
     ]
    }
   ],
   "source": [
    "df=pd.DataFrame(d)\n",
    "print(\"columns\",df.columns)\n",
    "print(df.shape)"
   ]
  },
  {
   "cell_type": "code",
   "execution_count": 9,
   "id": "1ba3336a",
   "metadata": {},
   "outputs": [
    {
     "name": "stdout",
     "output_type": "stream",
     "text": [
      "Department 0             HR\n",
      "1    coordinator\n",
      "2             HR\n",
      "3             HR\n",
      "4    coordinator\n",
      "5    coordinator\n",
      "6    coordinator\n",
      "7             HR\n",
      "8             HR\n",
      "9             HR\n",
      "Name: Department, dtype: object\n"
     ]
    }
   ],
   "source": [
    "print(\"Department\",df['Department'])"
   ]
  },
  {
   "cell_type": "code",
   "execution_count": 11,
   "id": "bbf3a4db",
   "metadata": {},
   "outputs": [
    {
     "name": "stdout",
     "output_type": "stream",
     "text": [
      "   S.NO First Name  Gender Login Time Salary  Bonus(%)   Department  \\\n",
      "5     6     Ramesh    Male      10:00  25000      2000  coordinator   \n",
      "6     7    Kavitha  female       9:30  20000      1500  coordinator   \n",
      "7     8    Mithali  female      10:10  18000      1000           HR   \n",
      "8     9    Harshaw    Male      10:00  15000      2000           HR   \n",
      "\n",
      "  Designation  \n",
      "5     Manager  \n",
      "6      member  \n",
      "7      member  \n",
      "8      member  \n"
     ]
    }
   ],
   "source": [
    "print(df[5:9])"
   ]
  },
  {
   "cell_type": "code",
   "execution_count": 12,
   "id": "9379081b",
   "metadata": {},
   "outputs": [
    {
     "name": "stdout",
     "output_type": "stream",
     "text": [
      "Particular Person Details S.NO                 3\n",
      "First Name     sarathi\n",
      "Gender            male\n",
      "Login Time        8:30\n",
      "Salary           25000\n",
      "Bonus(%)          2000\n",
      "Department          HR\n",
      "Designation         TL\n",
      "Name: 2, dtype: object\n"
     ]
    }
   ],
   "source": [
    "print(\"Particular Person Details\",df.loc[2])"
   ]
  },
  {
   "cell_type": "code",
   "execution_count": 14,
   "id": "7ae2cea9",
   "metadata": {},
   "outputs": [
    {
     "name": "stdout",
     "output_type": "stream",
     "text": [
      "Empty DataFrame\n",
      "Columns: [S.NO, First Name, Gender, Login Time, Salary, Bonus(%), Department, Designation]\n",
      "Index: []\n"
     ]
    }
   ],
   "source": [
    "print(d.loc[d['Salary']==1005000])"
   ]
  },
  {
   "cell_type": "code",
   "execution_count": 9,
   "id": "42d49da0",
   "metadata": {},
   "outputs": [
    {
     "name": "stdout",
     "output_type": "stream",
     "text": [
      "0    20,000\n",
      "1    13,000\n",
      "2     25000\n",
      "3     30000\n",
      "4     15000\n",
      "5     25000\n",
      "6     20000\n",
      "7     18000\n",
      "8     15000\n",
      "9     15000\n",
      "Name: Salary, dtype: object\n"
     ]
    }
   ],
   "source": [
    "df=d['Salary']\n",
    "print(df)"
   ]
  },
  {
   "cell_type": "code",
   "execution_count": null,
   "id": "01d094a7",
   "metadata": {},
   "outputs": [],
   "source": []
  }
 ],
 "metadata": {
  "kernelspec": {
   "display_name": "Python 3 (ipykernel)",
   "language": "python",
   "name": "python3"
  },
  "language_info": {
   "codemirror_mode": {
    "name": "ipython",
    "version": 3
   },
   "file_extension": ".py",
   "mimetype": "text/x-python",
   "name": "python",
   "nbconvert_exporter": "python",
   "pygments_lexer": "ipython3",
   "version": "3.11.5"
  }
 },
 "nbformat": 4,
 "nbformat_minor": 5
}
